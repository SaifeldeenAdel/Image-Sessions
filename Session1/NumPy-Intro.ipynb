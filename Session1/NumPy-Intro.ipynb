{
 "cells": [
  {
   "cell_type": "markdown",
   "id": "c9519713",
   "metadata": {},
   "source": [
    "# NumPy Basics"
   ]
  },
  {
   "cell_type": "code",
   "execution_count": null,
   "id": "c22ca45f",
   "metadata": {},
   "outputs": [],
   "source": [
    "# pip install numpy\n",
    "import numpy as np"
   ]
  },
  {
   "cell_type": "markdown",
   "id": "0a38e88b",
   "metadata": {},
   "source": [
    "### Lists vs NumPy array"
   ]
  },
  {
   "cell_type": "code",
   "execution_count": null,
   "id": "5c193e4c",
   "metadata": {},
   "outputs": [],
   "source": [
    "x_list = [1,2,3,4]\n",
    "x_numpy = np.array([1,2,3,4])"
   ]
  },
  {
   "cell_type": "code",
   "execution_count": null,
   "id": "47c5e6d4",
   "metadata": {},
   "outputs": [],
   "source": [
    "print(x_list[0])\n",
    "print(x_numpy[0])"
   ]
  },
  {
   "cell_type": "code",
   "execution_count": null,
   "id": "8f23ff3e",
   "metadata": {},
   "outputs": [],
   "source": [
    "x_list[0] = 's'\n",
    "x_list"
   ]
  },
  {
   "cell_type": "code",
   "execution_count": null,
   "id": "e218a1dc",
   "metadata": {},
   "outputs": [],
   "source": [
    "# Constant data type\n",
    "x_numpy[0] = 's'\n",
    "x_numpy"
   ]
  },
  {
   "cell_type": "markdown",
   "id": "ee2befc9",
   "metadata": {},
   "source": [
    "### Useful NumPy array functions"
   ]
  },
  {
   "cell_type": "code",
   "execution_count": null,
   "id": "915b6edb",
   "metadata": {},
   "outputs": [],
   "source": [
    "# Creates a numpy array with the range of values given - note: third paramter can be added for step.\n",
    "arr = np.arange(0,50)\n",
    "print(arr)"
   ]
  },
  {
   "cell_type": "code",
   "execution_count": null,
   "id": "79658ef4",
   "metadata": {},
   "outputs": [],
   "source": [
    "new = np.zeros(10)\n",
    "print(new)\n",
    "\n",
    "# can obtain ints by doing np.zeros(10, dtype='int')"
   ]
  },
  {
   "cell_type": "code",
   "execution_count": null,
   "id": "899d4de3",
   "metadata": {},
   "outputs": [],
   "source": [
    "# Random values\n",
    "arr = np.random.randint(0,100,50)\n",
    "print(arr)\n",
    "print(arr.max())\n",
    "print(arr.min())"
   ]
  },
  {
   "cell_type": "markdown",
   "id": "b0059993",
   "metadata": {},
   "source": [
    "### Array Indexing\n"
   ]
  },
  {
   "cell_type": "code",
   "execution_count": null,
   "id": "1a489797",
   "metadata": {},
   "outputs": [],
   "source": [
    "# Fill the new array with the values in the index range of 5-15 in arr\n",
    "arr = np.random.randint(0,100,50)\n",
    "new = []\n",
    "for i in range(5,15):\n",
    "    new.append(arr[i])\n",
    "print(new)"
   ]
  },
  {
   "cell_type": "code",
   "execution_count": null,
   "id": "722f6764",
   "metadata": {},
   "outputs": [],
   "source": [
    "# Optimized\n",
    "new = arr[5:15]\n",
    "print(new)"
   ]
  },
  {
   "cell_type": "code",
   "execution_count": null,
   "id": "46e7457c",
   "metadata": {},
   "outputs": [],
   "source": [
    "# Not having to specifying beginning and ending of array to index it\n",
    "print(arr[0:20])\n",
    "print(arr[:20])"
   ]
  },
  {
   "cell_type": "code",
   "execution_count": null,
   "id": "71b9d078",
   "metadata": {},
   "outputs": [],
   "source": [
    "print(arr[20:len(arr)])\n",
    "print(arr[20:])"
   ]
  },
  {
   "cell_type": "code",
   "execution_count": null,
   "id": "bd3a3292",
   "metadata": {},
   "outputs": [],
   "source": [
    "# Choosing specific indicies\n",
    "arr = np.arange(10,20)\n",
    "print(arr[[1,6,9]])"
   ]
  },
  {
   "cell_type": "markdown",
   "id": "257eda9f",
   "metadata": {},
   "source": [
    "### Mathematical operations"
   ]
  },
  {
   "cell_type": "code",
   "execution_count": null,
   "id": "83cdba39",
   "metadata": {},
   "outputs": [],
   "source": [
    "x = np.array([1,2,3])\n",
    "y = np.array([4,5,6])"
   ]
  },
  {
   "cell_type": "code",
   "execution_count": null,
   "id": "95c1f499",
   "metadata": {},
   "outputs": [],
   "source": [
    "x*10, x+10"
   ]
  },
  {
   "cell_type": "code",
   "execution_count": null,
   "id": "6a9e1fbb",
   "metadata": {},
   "outputs": [],
   "source": [
    "z = x+y\n",
    "w = x*y\n",
    "print(f\"z: {z}\")\n",
    "print(f\"w: {w}\")"
   ]
  },
  {
   "cell_type": "code",
   "execution_count": null,
   "id": "52fecc25",
   "metadata": {},
   "outputs": [],
   "source": [
    "# Conditional indexing\n",
    "x = np.random.randint(0, 150, 20)"
   ]
  },
  {
   "cell_type": "code",
   "execution_count": null,
   "id": "8062755b",
   "metadata": {},
   "outputs": [],
   "source": [
    "print(x > 100)"
   ]
  },
  {
   "cell_type": "code",
   "execution_count": null,
   "id": "71fc3cfa",
   "metadata": {},
   "outputs": [],
   "source": [
    "x[x>100] = 0\n",
    "x"
   ]
  },
  {
   "cell_type": "markdown",
   "id": "b1191a6b",
   "metadata": {},
   "source": [
    "### Multidimentional Arrays / Matrices"
   ]
  },
  {
   "cell_type": "code",
   "execution_count": null,
   "id": "2072f408",
   "metadata": {},
   "outputs": [],
   "source": [
    "#Now let's create a 3x3 matrix\n",
    "matrix= np.array([[1,2,3],[4,5,6],[7,8,9]])\n",
    "matrix"
   ]
  },
  {
   "cell_type": "code",
   "execution_count": null,
   "id": "3b9decde",
   "metadata": {},
   "outputs": [],
   "source": [
    "matrix.shape"
   ]
  },
  {
   "cell_type": "code",
   "execution_count": null,
   "id": "7b5078e8",
   "metadata": {},
   "outputs": [],
   "source": [
    "# Reshape into any shape that has the same area (9)\n",
    "matrix.reshape(9,1)"
   ]
  },
  {
   "cell_type": "code",
   "execution_count": null,
   "id": "4f7c3862",
   "metadata": {},
   "outputs": [],
   "source": [
    "# Flattens into one dimensional array \n",
    "matrix.flatten()"
   ]
  },
  {
   "cell_type": "code",
   "execution_count": null,
   "id": "384dacc6",
   "metadata": {},
   "outputs": [],
   "source": [
    "#Indexing and slicing matrices\n",
    "print(f\"row 1: {matrix[1, :]}\")\n",
    "print(f\"column 1: {matrix[:, 1]}\")"
   ]
  },
  {
   "cell_type": "code",
   "execution_count": null,
   "id": "97571737",
   "metadata": {},
   "outputs": [],
   "source": [
    "# Slicing Matrices\n",
    "matrix[1:, :2]"
   ]
  },
  {
   "cell_type": "code",
   "execution_count": null,
   "id": "788e8c31",
   "metadata": {},
   "outputs": [],
   "source": [
    "print(np.sum(matrix, axis=0)) # axis 0 is columns\n",
    "print(np.sum(matrix, axis=1)) # axis 1 is rows"
   ]
  },
  {
   "cell_type": "markdown",
   "id": "c6dd7a48",
   "metadata": {},
   "source": [
    "# JUPYTER SHORTCUTS"
   ]
  },
  {
   "cell_type": "markdown",
   "id": "b5c358ff",
   "metadata": {},
   "source": [
    "Run code in cell: Ctrl + Enter \\\n",
    "Run code in cell and go to next: Shift + Enter  \\\n",
    "Insert new cell above: A \\\n",
    "Insert new cell below: B \\\n",
    "Delete cell: D+D \\\n",
    "Convert to Markdown: M \\\n",
    "Going to next or previous cells: Arrow keys\n"
   ]
  }
 ],
 "metadata": {
  "kernelspec": {
   "display_name": "Python 3 (ipykernel)",
   "language": "python",
   "name": "python3"
  },
  "language_info": {
   "codemirror_mode": {
    "name": "ipython",
    "version": 3
   },
   "file_extension": ".py",
   "mimetype": "text/x-python",
   "name": "python",
   "nbconvert_exporter": "python",
   "pygments_lexer": "ipython3",
   "version": "3.11.4"
  }
 },
 "nbformat": 4,
 "nbformat_minor": 5
}
