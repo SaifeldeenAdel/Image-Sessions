{
 "cells": [
  {
   "cell_type": "markdown",
   "id": "bedfe981",
   "metadata": {},
   "source": [
    "# Section 1 - Intro to OpenCV, how images are represented"
   ]
  },
  {
   "cell_type": "code",
   "execution_count": null,
   "id": "cd00b7c4",
   "metadata": {},
   "outputs": [],
   "source": [
    "#pip install opencv-python\n",
    "import cv2\n",
    "import numpy as np\n",
    "import matplotlib.pyplot as plt\n",
    "plt.rcParams['figure.figsize'] = [10, 3]"
   ]
  },
  {
   "cell_type": "markdown",
   "id": "0af46e6a",
   "metadata": {},
   "source": [
    "## Loading and Displaying"
   ]
  },
  {
   "cell_type": "code",
   "execution_count": null,
   "id": "229fed80",
   "metadata": {},
   "outputs": [],
   "source": [
    "# Loading\n",
    "image= cv2.imread('./assets/cat1.jpeg',0)\n",
    "print(image)"
   ]
  },
  {
   "cell_type": "code",
   "execution_count": null,
   "id": "7bc0ae84",
   "metadata": {},
   "outputs": [],
   "source": [
    "# Displaying using matplotlib\n",
    "plt.imshow(image, cmap='gray')\n",
    "plt.show()"
   ]
  },
  {
   "cell_type": "code",
   "execution_count": null,
   "id": "47cf16aa",
   "metadata": {},
   "outputs": [],
   "source": [
    "# Displaying Using openCV\n",
    "cv2.imshow(\"Cat\", image)\n",
    "cv2.waitKey(0)\n",
    "cv2.destroyAllWindows()"
   ]
  },
  {
   "cell_type": "code",
   "execution_count": null,
   "id": "748a0c63",
   "metadata": {},
   "outputs": [],
   "source": [
    "print(type(image))\n",
    "print(image.shape)\n",
    "print(image.dtype)"
   ]
  },
  {
   "cell_type": "markdown",
   "id": "9786f2e8",
   "metadata": {},
   "source": [
    "## Pixels explained"
   ]
  },
  {
   "cell_type": "code",
   "execution_count": null,
   "id": "1f20adbe",
   "metadata": {},
   "outputs": [],
   "source": [
    "x = np.arange(0,256)\n",
    "print(x)\n",
    "for i in range(8):\n",
    "    x = np.vstack((x,x))"
   ]
  },
  {
   "cell_type": "code",
   "execution_count": null,
   "id": "3bf80f84",
   "metadata": {},
   "outputs": [],
   "source": [
    "plt.imshow(x, cmap='gray')\n",
    "plt.show()"
   ]
  },
  {
   "cell_type": "code",
   "execution_count": null,
   "id": "c2f1fb1d",
   "metadata": {},
   "outputs": [],
   "source": [
    "# Binary images are images with either 0 or 255 only\n",
    "binary_image= np.zeros((360,360), dtype=np.uint8)\n",
    "binary_image[120:240,:]=255"
   ]
  },
  {
   "cell_type": "code",
   "execution_count": null,
   "id": "fffb9090",
   "metadata": {},
   "outputs": [],
   "source": [
    "plt.imshow(binary_image, cmap='gray')\n",
    "plt.show()"
   ]
  },
  {
   "cell_type": "markdown",
   "id": "5f33d93b",
   "metadata": {},
   "source": [
    "# Section 2 - Image Operations"
   ]
  },
  {
   "cell_type": "code",
   "execution_count": null,
   "id": "2806f2c0",
   "metadata": {},
   "outputs": [],
   "source": [
    "def displayImage(img):\n",
    "    plt.imshow(img, cmap='gray')\n",
    "    plt.show()\n",
    "    \n",
    "def displayImages(img1,img2):\n",
    "    fig= plt.figure(figsize=(10,20))\n",
    "    fig.add_subplot(1, 2, 1)\n",
    "    plt.imshow(img1, cmap='gray')\n",
    "    plt.axis('off')\n",
    "    plt.title(\"First\")\n",
    "    \n",
    "    fig.add_subplot(1, 2, 2)\n",
    "    plt.imshow(img2, cmap='gray')\n",
    "    plt.axis('off')\n",
    "    plt.title(\"Second\")\n",
    "    plt.show()"
   ]
  },
  {
   "cell_type": "code",
   "execution_count": null,
   "id": "69e8755f",
   "metadata": {
    "scrolled": true
   },
   "outputs": [],
   "source": [
    "displayImage(image)"
   ]
  },
  {
   "cell_type": "code",
   "execution_count": null,
   "id": "9f37c4ca",
   "metadata": {},
   "outputs": [],
   "source": [
    "img = cv2.imread(\"./assets/flower.jpg\", 0)\n",
    "displayImage(img)"
   ]
  },
  {
   "cell_type": "code",
   "execution_count": null,
   "id": "0d5f181e",
   "metadata": {},
   "outputs": [],
   "source": [
    "# To show similarity between numpy stuff we did before \n",
    "# Light to white\n",
    "\n",
    "img[img>180] = 255\n",
    "displayImage(img)"
   ]
  },
  {
   "cell_type": "code",
   "execution_count": null,
   "id": "bfb89b62",
   "metadata": {},
   "outputs": [],
   "source": [
    "# Dark to black\n",
    "img[img<150] = 0\n",
    "displayImage(img)"
   ]
  },
  {
   "cell_type": "markdown",
   "id": "3f170c78",
   "metadata": {},
   "source": [
    "## Image partitioning"
   ]
  },
  {
   "cell_type": "code",
   "execution_count": null,
   "id": "4b93b326",
   "metadata": {},
   "outputs": [],
   "source": [
    "displayImage(image)"
   ]
  },
  {
   "cell_type": "code",
   "execution_count": null,
   "id": "32c39b66",
   "metadata": {},
   "outputs": [],
   "source": [
    "image.shape"
   ]
  },
  {
   "cell_type": "code",
   "execution_count": null,
   "id": "1b5bab66",
   "metadata": {},
   "outputs": [],
   "source": [
    "# Getting the left and right half of the image\n",
    "left_half = image[:, :image.shape[1]//2]\n",
    "right_half = image[:, image.shape[1]//2:]"
   ]
  },
  {
   "cell_type": "code",
   "execution_count": null,
   "id": "cbdafbad",
   "metadata": {},
   "outputs": [],
   "source": [
    "cv2.imshow('left',left_half)\n",
    "cv2.imshow('right',right_half)\n",
    "cv2.waitKey(0)\n",
    "cv2.destroyAllWindows()"
   ]
  },
  {
   "cell_type": "code",
   "execution_count": null,
   "id": "acac5670",
   "metadata": {},
   "outputs": [],
   "source": [
    "# How to do top and bottom half?"
   ]
  },
  {
   "cell_type": "markdown",
   "id": "45c170ea",
   "metadata": {},
   "source": [
    "## Resizing, Rotation and Reflection"
   ]
  },
  {
   "cell_type": "code",
   "execution_count": null,
   "id": "b21a24ea",
   "metadata": {},
   "outputs": [],
   "source": [
    "image = cv2.imread('./assets/cat1.jpeg', 0)\n",
    "image2 = cv2.imread('./assets/cat2.jpeg', 0)"
   ]
  },
  {
   "cell_type": "code",
   "execution_count": null,
   "id": "e5c95d52",
   "metadata": {},
   "outputs": [],
   "source": [
    "displayImages(image, image2)\n",
    "print(f\"First: {image.shape}\")\n",
    "print(f\"Second: {image2.shape}\")"
   ]
  },
  {
   "cell_type": "code",
   "execution_count": null,
   "id": "fcda3e7b",
   "metadata": {},
   "outputs": [],
   "source": [
    "# Lets say we want the second photo to be the same size of the first"
   ]
  },
  {
   "cell_type": "code",
   "execution_count": null,
   "id": "f0fd485e",
   "metadata": {},
   "outputs": [],
   "source": [
    "image2 = cv2.resize(image2, image.shape)\n",
    "displayImages(image, image2)"
   ]
  },
  {
   "cell_type": "code",
   "execution_count": null,
   "id": "df077224",
   "metadata": {},
   "outputs": [],
   "source": [
    "print(image.shape)\n",
    "print(image2.shape)"
   ]
  },
  {
   "cell_type": "code",
   "execution_count": null,
   "id": "dbe03d71",
   "metadata": {},
   "outputs": [],
   "source": [
    "image2 = cv2.resize(image2, (image.shape[1], image.shape[0]))\n",
    "displayImages(image, image2)"
   ]
  },
  {
   "cell_type": "code",
   "execution_count": null,
   "id": "94fad9cc",
   "metadata": {},
   "outputs": [],
   "source": [
    "print(image.shape)\n",
    "print(image2.shape)"
   ]
  },
  {
   "cell_type": "code",
   "execution_count": null,
   "id": "1154d781",
   "metadata": {},
   "outputs": [],
   "source": [
    "# Resize works well when the difference isn't alot because of distortion, alternitvely could use cropping"
   ]
  },
  {
   "cell_type": "markdown",
   "id": "e5abef6c",
   "metadata": {},
   "source": [
    "### You will learn about reflection and rotation in your tasks"
   ]
  },
  {
   "cell_type": "code",
   "execution_count": null,
   "id": "7878f91c",
   "metadata": {},
   "outputs": [],
   "source": [
    "rotate = cv2.imread('./assets/rotate.jpeg', 0)\n",
    "reflect = cv2.imread('./assets/mirror.jpeg')\n",
    "displayImages(rotate, reflect)"
   ]
  },
  {
   "cell_type": "markdown",
   "id": "b0b12e42",
   "metadata": {},
   "source": [
    "# Section 3 - Working with Multiple Images"
   ]
  },
  {
   "cell_type": "markdown",
   "id": "1771c8e8",
   "metadata": {},
   "source": [
    "## Mathematical operations and concatentation"
   ]
  },
  {
   "cell_type": "code",
   "execution_count": null,
   "id": "fdd6ca60",
   "metadata": {},
   "outputs": [],
   "source": [
    "combined = image.astype(int) + image2.astype(int)\n",
    "combined"
   ]
  },
  {
   "cell_type": "code",
   "execution_count": null,
   "id": "5a9dba66",
   "metadata": {},
   "outputs": [],
   "source": [
    "combined[combined > 255] = 255\n",
    "displayImage(combined)"
   ]
  },
  {
   "cell_type": "code",
   "execution_count": null,
   "id": "ae426a94",
   "metadata": {
    "scrolled": true
   },
   "outputs": [],
   "source": [
    "# What if we want to concatenate images side by side?"
   ]
  },
  {
   "cell_type": "markdown",
   "id": "f6da99df",
   "metadata": {},
   "source": [
    "## Feature matching"
   ]
  },
  {
   "cell_type": "code",
   "execution_count": null,
   "id": "4f4f92ca",
   "metadata": {},
   "outputs": [],
   "source": [
    "# Example output of feature matching\n",
    "features = cv2.imread('./assets/feature.jpeg')\n",
    "displayImage(features)"
   ]
  },
  {
   "cell_type": "markdown",
   "id": "51e6291a",
   "metadata": {},
   "source": [
    "# Section 4 - Thresholding"
   ]
  },
  {
   "cell_type": "markdown",
   "id": "35a5bb0b",
   "metadata": {},
   "source": [
    "## Simple Thresholding"
   ]
  },
  {
   "cell_type": "code",
   "execution_count": null,
   "id": "b97dd0de",
   "metadata": {},
   "outputs": [],
   "source": [
    "flower = cv2.imread('./assets/threshold.jpg', 0)\n",
    "displayImage(flower)"
   ]
  },
  {
   "cell_type": "code",
   "execution_count": null,
   "id": "4bad2e6e",
   "metadata": {},
   "outputs": [],
   "source": [
    "# Binary and Binary Inverted thresholding - try changing threshold values\n",
    "ret,thresh1 = cv2.threshold(flower,150,255,cv2.THRESH_BINARY)\n",
    "ret,thresh2 = cv2.threshold(flower, 150,255,cv2.THRESH_BINARY_INV)\n",
    "\n",
    "displayImages(thresh1, thresh2)"
   ]
  },
  {
   "cell_type": "code",
   "execution_count": null,
   "id": "cb0bc8ae",
   "metadata": {},
   "outputs": [],
   "source": [
    "# To Zero\n",
    "ret,thresh1 = cv2.threshold(flower,70,255,cv2.THRESH_TOZERO)\n",
    "ret,thresh2 = cv2.threshold(flower,70,255,cv2.THRESH_TOZERO_INV)\n",
    "\n",
    "displayImages(thresh1, thresh2)"
   ]
  },
  {
   "cell_type": "code",
   "execution_count": null,
   "id": "bc14898f",
   "metadata": {},
   "outputs": [],
   "source": [
    "# Can you implement TO ZERO using NumPy only?"
   ]
  },
  {
   "cell_type": "markdown",
   "id": "08e8012c",
   "metadata": {},
   "source": [
    "## Adaptive Thresholding"
   ]
  },
  {
   "cell_type": "code",
   "execution_count": null,
   "id": "28452b02",
   "metadata": {},
   "outputs": [],
   "source": [
    "# Thresholding based on a function and not a specific set value\n",
    "sudoku = cv2.imread('./assets/sudoku.jpeg', 0)\n",
    "ret,simple = cv2.threshold(sudoku,80,255,cv2.THRESH_BINARY)\n",
    "\n",
    "displayImages(sudoku, simple)"
   ]
  },
  {
   "cell_type": "code",
   "execution_count": null,
   "id": "7eb59655",
   "metadata": {},
   "outputs": [],
   "source": [
    "adaptive = cv2.adaptiveThreshold(sudoku,255,cv2.ADAPTIVE_THRESH_GAUSSIAN_C,cv2.THRESH_BINARY,11,2)"
   ]
  },
  {
   "cell_type": "code",
   "execution_count": null,
   "id": "5c165415",
   "metadata": {},
   "outputs": [],
   "source": [
    "displayImages(sudoku, adaptive)"
   ]
  },
  {
   "cell_type": "markdown",
   "id": "ce909368",
   "metadata": {},
   "source": [
    "# Section 5 - Mouse Events/Callbacks"
   ]
  },
  {
   "cell_type": "code",
   "execution_count": null,
   "id": "6886fe0b",
   "metadata": {},
   "outputs": [],
   "source": [
    "towers = cv2.imread('./assets/skyline.jpg', 0)\n",
    "cv2.imshow('Towers', towers)\n",
    "cv2.waitKey(0)\n",
    "cv2.destroyAllWindows()"
   ]
  },
  {
   "cell_type": "code",
   "execution_count": null,
   "id": "4f2b5eee",
   "metadata": {},
   "outputs": [],
   "source": [
    "point1 = None\n",
    "point2 = None\n",
    "segment = None\n",
    "\n",
    "def cropFunction(event,x,y,flags,param):\n",
    "    global point1, point2, segment\n",
    "    if event == cv2.EVENT_LBUTTONDOWN:\n",
    "        if point1 is None:\n",
    "            point1 = (x,y)\n",
    "            print(f\"Point 1: {point1}\")\n",
    "            \n",
    "        elif point2 is None:\n",
    "            point2 = (x,y)\n",
    "            print(f\"Point 2: {point2}\")\n",
    "             \n",
    "            \n",
    "            minY= min(point1[1],point2[1])\n",
    "            maxY= max(point1[1],point2[1])\n",
    "            \n",
    "            segment= towers[minY:maxY, :]   \n",
    "\n",
    "        \n",
    "# Creating a window to add the mouse callback to\n",
    "towers = cv2.imread('./assets/skyline.jpeg', 0)\n",
    "cv2.namedWindow('Tower')\n",
    "cv2.setMouseCallback('Tower',cropFunction)\n",
    "\n",
    "while(1):\n",
    "    cv2.imshow('Tower',towers)\n",
    "        if segment is not None:\n",
    "            cv2.imshow('Segment', segment)\n",
    "    cv2.waitKey(0)\n",
    "        if key == 27:\n",
    "            break\n",
    "cv2.destroyAllWindows()"
   ]
  },
  {
   "cell_type": "code",
   "execution_count": null,
   "id": "59304be5",
   "metadata": {},
   "outputs": [],
   "source": [
    "# What if I want to crop at those two corners?"
   ]
  },
  {
   "cell_type": "markdown",
   "id": "d8bb44ad",
   "metadata": {},
   "source": [
    "# Drawing on Images using mouse callbacks"
   ]
  },
  {
   "cell_type": "markdown",
   "id": "a4b74bf0",
   "metadata": {},
   "source": [
    "There are functions in openCV that allow you to draw shapes like squares and circles over your images. Can you use these functions in a similar mouse callback that instead of cropping, draws a shape over the image?"
   ]
  },
  {
   "cell_type": "code",
   "execution_count": null,
   "id": "b9ad792f",
   "metadata": {},
   "outputs": [],
   "source": []
  },
  {
   "cell_type": "code",
   "execution_count": null,
   "id": "88b57338",
   "metadata": {},
   "outputs": [],
   "source": []
  }
 ],
 "metadata": {
  "kernelspec": {
   "display_name": "Python 3 (ipykernel)",
   "language": "python",
   "name": "python3"
  },
  "language_info": {
   "codemirror_mode": {
    "name": "ipython",
    "version": 3
   },
   "file_extension": ".py",
   "mimetype": "text/x-python",
   "name": "python",
   "nbconvert_exporter": "python",
   "pygments_lexer": "ipython3",
   "version": "3.11.4"
  }
 },
 "nbformat": 4,
 "nbformat_minor": 5
}
